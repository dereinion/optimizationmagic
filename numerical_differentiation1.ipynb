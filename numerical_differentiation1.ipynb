{
 "cells": [
  {
   "cell_type": "code",
   "execution_count": 607,
   "metadata": {},
   "outputs": [],
   "source": [
    "import numpy as np\n",
    "import matplotlib.pyplot as plt\n",
    "import seaborn as sns\n",
    "import math\n",
    "def f(x) -> float:\n",
    "    return x**2 + math.cos(2*x) + 2*math.log(x)"
   ]
  },
  {
   "cell_type": "code",
   "execution_count": 608,
   "metadata": {},
   "outputs": [],
   "source": [
    "def df(x) -> float:\n",
    "    return 2*(x + (1/x) - math.sin(2*x))"
   ]
  },
  {
   "cell_type": "code",
   "execution_count": 609,
   "metadata": {},
   "outputs": [
    {
     "name": "stdout",
     "output_type": "stream",
     "text": [
      "[1, 2, 3, 4, 5, 6, 7, 8, 9, 10, 11, 12, 13, 14, 15, 16, 17, 18, 19, 20]\n",
      "[0.5838531634528576, 4.732650740256279, 12.157394863986585, 18.62708868843117, 27.379804295791747, 40.427372897188604, 53.02855751631846, 67.20122360303628, 86.05476586291653, 105.01325224780147, 124.7958297192021, 149.393992306913, 174.77681803725173, 200.31550879291694, 230.57035185209202, 262.37940080498606, 293.81785641332783, 329.65277982616493, 367.8439516023802, 405.3245264854557]\n"
     ]
    }
   ],
   "source": [
    "x = [i for i in range (1, 21, 1)]\n",
    "print(x)\n",
    "y = [f(i) for i in x]\n",
    "print(y)"
   ]
  },
  {
   "cell_type": "markdown",
   "metadata": {},
   "source": [
    "## Numerical differentiation\n",
    "### First derivative:\n",
    "left O(h):\n",
    "$$ f'(x_i) \\simeq \\frac {f(x_i) - f(x_{i-1})}{h}$$\n",
    "\n",
    "right O(h):\n",
    "$$ f'(x_i) \\simeq \\frac {f(x_{i+1}) - f(x_i)}{h}$$\n",
    "\n",
    "central O(h^2):\n",
    "$$ f'(x_i) \\simeq \\frac {f(x_{i+1}) - f(x_{i-1})}{2h}$$\n",
    "\n",
    "### Second derivative:\n",
    "central O(h^2):\n",
    "$$ f''(x_i) \\simeq \\frac {f(x_{i-1}) - 2f(x_i) + f(x_{i-1})}{h^2}$$\n",
    "\n"
   ]
  },
  {
   "cell_type": "code",
   "execution_count": 610,
   "metadata": {},
   "outputs": [],
   "source": [
    "def leftdf(f, x_cur, x_prev, h) -> float:\n",
    "    return (f(x_cur)-f(x_prev))/h\n",
    "\n",
    "def rightdf(f, x_next, x_cur, h) -> float:\n",
    "    return (f(x_next)-f(x_cur))/h\n",
    "\n",
    "def centraldf(f, x_next, x_prev, h) -> float:\n",
    "    return (f(x_next)-f(x_prev))/2*h\n",
    "\n",
    "def central2df(f, x_cur, x_prev, h) -> float:\n",
    "    return (f(x_prev)-2*f(x_cur)+f(x_prev))/h**2"
   ]
  },
  {
   "cell_type": "code",
   "execution_count": 611,
   "metadata": {},
   "outputs": [
    {
     "data": {
      "text/plain": [
       "Text(0.5, 1.0, 'f(x) = x**2 + math.cos(2*x) + 2*math.log(x)')"
      ]
     },
     "execution_count": 611,
     "metadata": {},
     "output_type": "execute_result"
    },
    {
     "data": {
      "image/png": "[encoded data removed]",
      "text/plain": [
       "<Figure size 432x288 with 1 Axes>"
      ]
     },
     "metadata": {
      "needs_background": "light"
     },
     "output_type": "display_data"
    }
   ],
   "source": [
    "sns.lineplot(x=x,y=y).set_title('f(x) = x**2 + math.cos(2*x) + 2*math.log(x)')"
   ]
  },
  {
   "cell_type": "code",
   "execution_count": 612,
   "metadata": {},
   "outputs": [
    {
     "name": "stdout",
     "output_type": "stream",
     "text": [
      "[2.1814051463486366, 6.513604990615857, 7.225497663064519, 6.521283506753236, 11.48804222177874, 13.406479169334204, 12.304499574324545, 16.82580663333013, 19.724196715765572, 18.374109498544744, 22.19952080039899, 25.977823390679916, 24.62872925288695, 27.601045566241403, 32.10939658151906, 31.02214663751662, 33.05948168658348, 38.094668817997345, 37.51252600047597, 38.609773679041304]\n",
      "len = 20\n"
     ]
    }
   ],
   "source": [
    "derivative = [df(i) for i in x]\n",
    "print(derivative)\n",
    "print('len =', len(derivative))"
   ]
  },
  {
   "cell_type": "code",
   "execution_count": 613,
   "metadata": {},
   "outputs": [
    {
     "data": {
      "text/plain": [
       "Text(0.5, 1.0, 'df/dx = 2*(x + (1/x) - math.sin(2*x))')"
      ]
     },
     "execution_count": 613,
     "metadata": {},
     "output_type": "execute_result"
    },
    {
     "data": {
      "image/png": "[encoded data removed]",
      "text/plain": [
       "<Figure size 432x288 with 1 Axes>"
      ]
     },
     "metadata": {
      "needs_background": "light"
     },
     "output_type": "display_data"
    }
   ],
   "source": [
    "sns.lineplot(x=x,y=derivative).set_title('df/dx = 2*(x + (1/x) - math.sin(2*x))')"
   ]
  },
  {
   "cell_type": "code",
   "execution_count": null,
   "metadata": {},
   "outputs": [],
   "source": []
  },
  {
   "cell_type": "markdown",
   "metadata": {},
   "source": [
    "$$ f(x_k) = \\frac{f(x_k+h) - f(x_k)}{h} $$"
   ]
  },
  {
   "cell_type": "markdown",
   "metadata": {},
   "source": [
    "### optimal h\n",
    "$$ h = 2*\\sqrt{\\varepsilon{ {\\frac{|f(x)|}{|f''(x)|}}}} $$"
   ]
  },
  {
   "cell_type": "code",
   "execution_count": 615,
   "metadata": {},
   "outputs": [
    {
     "name": "stdout",
     "output_type": "stream",
     "text": [
      "[2.1814051435895756, 6.513604995296679, 7.225497572927955, 6.52128357867495, 11.488042438805724, 13.40647901127499, 12.304499739430566, 16.825807049698327, 19.72419655614738, 18.37410957360786, 22.199521350988842, 25.977823481965387, 24.62872904905088, 27.601046115900445, 32.109396829348356, 31.022146371155245, 33.05948204972533, 38.09466932690926, 37.512525542267696, 38.609774519853104]\n"
     ]
    }
   ],
   "source": [
    "def secder(x):\n",
    "    return -2/x**2 - 4*math.cos(2*x) + 2\n",
    "\n",
    "def optimal_h(f, x) -> float:\n",
    "    eps = 2.2*10**-16\n",
    "    opt_h = 2*math.sqrt((eps*abs(f(x)))/abs(secder(x)))\n",
    "    return opt_h\n",
    "\n",
    "def numdf(f, x, h):\n",
    "    return (f(x+h) - f(x)) / h\n",
    "\n",
    "numder = []\n",
    "for i in range (0, len(x)):\n",
    "    numder.append(numdf(f, x[i], optimal_h(f, x[i])))\n",
    "print(numder)"
   ]
  },
  {
   "cell_type": "code",
   "execution_count": 616,
   "metadata": {},
   "outputs": [
    {
     "name": "stdout",
     "output_type": "stream",
     "text": [
      "delta = 2.759060979684591e-09\n",
      "delta = 4.680821952263159e-09\n",
      "delta = 9.013656399048386e-08\n",
      "delta = 7.192171391778857e-08\n",
      "delta = 2.1702698482783944e-07\n",
      "delta = 1.580592137173653e-07\n",
      "delta = 1.651060212992661e-07\n",
      "delta = 4.163681950331011e-07\n",
      "delta = 1.5961819244125763e-07\n",
      "delta = 7.506311661131804e-08\n",
      "delta = 5.505898528213038e-07\n",
      "delta = 9.128547162617906e-08\n",
      "delta = 2.0383606980090008e-07\n",
      "delta = 5.496590418374581e-07\n",
      "delta = 2.4782929841649093e-07\n",
      "delta = 2.6636137562263684e-07\n",
      "delta = 3.631418508120987e-07\n",
      "delta = 5.089119170520462e-07\n",
      "delta = 4.5820827665465913e-07\n",
      "delta = 8.408118006286713e-07\n"
     ]
    }
   ],
   "source": [
    "for i in range(0, len(x)):\n",
    "    print('delta =', abs(numder[i]-derivative[i]))"
   ]
  },
  {
   "cell_type": "code",
   "execution_count": null,
   "metadata": {},
   "outputs": [],
   "source": []
  },
  {
   "cell_type": "code",
   "execution_count": null,
   "metadata": {},
   "outputs": [],
   "source": []
  }
 ],
 "metadata": {
  "kernelspec": {
   "display_name": "Python 3",
   "language": "python",
   "name": "python3"
  },
  "language_info": {
   "codemirror_mode": {
    "name": "ipython",
    "version": 3
   },
   "file_extension": ".py",
   "mimetype": "text/x-python",
   "name": "python",
   "nbconvert_exporter": "python",
   "pygments_lexer": "ipython3",
   "version": "3.8.5"
  }
 },
 "nbformat": 4,
 "nbformat_minor": 4
}
